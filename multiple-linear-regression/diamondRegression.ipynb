{
 "cells": [
  {
   "cell_type": "markdown",
   "id": "b7d9e0c5-3fb6-402e-afeb-1341c01fae91",
   "metadata": {},
   "source": [
    "The goal of this analysis will be to predict diamond prices in usd using various regression techniques.\n",
    "I will use the cliche Kaggle diamond dataset: https://www.kaggle.com/datasets/shivam2503/diamonds.\n",
    "However, this will be a fresh analysis and not a copy of any tutorial or other published notebook.\n"
   ]
  },
  {
   "cell_type": "markdown",
   "id": "5f61b7c3-03db-4acd-a532-b1fddfdc4ecf",
   "metadata": {},
   "source": [
    "I started by getting the set into a DataFrame, dropping the first column (id) and getting a sense of structure."
   ]
  },
  {
   "cell_type": "code",
   "execution_count": 50,
   "id": "dd4b5666-ee61-4610-9cf7-28f8d0aa127a",
   "metadata": {},
   "outputs": [
    {
     "data": {
      "text/html": [
       "<div>\n",
       "<style scoped>\n",
       "    .dataframe tbody tr th:only-of-type {\n",
       "        vertical-align: middle;\n",
       "    }\n",
       "\n",
       "    .dataframe tbody tr th {\n",
       "        vertical-align: top;\n",
       "    }\n",
       "\n",
       "    .dataframe thead th {\n",
       "        text-align: right;\n",
       "    }\n",
       "</style>\n",
       "<table border=\"1\" class=\"dataframe\">\n",
       "  <thead>\n",
       "    <tr style=\"text-align: right;\">\n",
       "      <th></th>\n",
       "      <th>carat</th>\n",
       "      <th>cut</th>\n",
       "      <th>color</th>\n",
       "      <th>clarity</th>\n",
       "      <th>depth</th>\n",
       "      <th>table</th>\n",
       "      <th>price</th>\n",
       "      <th>x</th>\n",
       "      <th>y</th>\n",
       "      <th>z</th>\n",
       "    </tr>\n",
       "  </thead>\n",
       "  <tbody>\n",
       "    <tr>\n",
       "      <th>0</th>\n",
       "      <td>0.23</td>\n",
       "      <td>Ideal</td>\n",
       "      <td>E</td>\n",
       "      <td>SI2</td>\n",
       "      <td>61.5</td>\n",
       "      <td>55.0</td>\n",
       "      <td>326</td>\n",
       "      <td>3.95</td>\n",
       "      <td>3.98</td>\n",
       "      <td>2.43</td>\n",
       "    </tr>\n",
       "    <tr>\n",
       "      <th>1</th>\n",
       "      <td>0.21</td>\n",
       "      <td>Premium</td>\n",
       "      <td>E</td>\n",
       "      <td>SI1</td>\n",
       "      <td>59.8</td>\n",
       "      <td>61.0</td>\n",
       "      <td>326</td>\n",
       "      <td>3.89</td>\n",
       "      <td>3.84</td>\n",
       "      <td>2.31</td>\n",
       "    </tr>\n",
       "    <tr>\n",
       "      <th>2</th>\n",
       "      <td>0.23</td>\n",
       "      <td>Good</td>\n",
       "      <td>E</td>\n",
       "      <td>VS1</td>\n",
       "      <td>56.9</td>\n",
       "      <td>65.0</td>\n",
       "      <td>327</td>\n",
       "      <td>4.05</td>\n",
       "      <td>4.07</td>\n",
       "      <td>2.31</td>\n",
       "    </tr>\n",
       "    <tr>\n",
       "      <th>3</th>\n",
       "      <td>0.29</td>\n",
       "      <td>Premium</td>\n",
       "      <td>I</td>\n",
       "      <td>VS2</td>\n",
       "      <td>62.4</td>\n",
       "      <td>58.0</td>\n",
       "      <td>334</td>\n",
       "      <td>4.20</td>\n",
       "      <td>4.23</td>\n",
       "      <td>2.63</td>\n",
       "    </tr>\n",
       "    <tr>\n",
       "      <th>4</th>\n",
       "      <td>0.31</td>\n",
       "      <td>Good</td>\n",
       "      <td>J</td>\n",
       "      <td>SI2</td>\n",
       "      <td>63.3</td>\n",
       "      <td>58.0</td>\n",
       "      <td>335</td>\n",
       "      <td>4.34</td>\n",
       "      <td>4.35</td>\n",
       "      <td>2.75</td>\n",
       "    </tr>\n",
       "  </tbody>\n",
       "</table>\n",
       "</div>"
      ],
      "text/plain": [
       "   carat      cut color clarity  depth  table  price     x     y     z\n",
       "0   0.23    Ideal     E     SI2   61.5   55.0    326  3.95  3.98  2.43\n",
       "1   0.21  Premium     E     SI1   59.8   61.0    326  3.89  3.84  2.31\n",
       "2   0.23     Good     E     VS1   56.9   65.0    327  4.05  4.07  2.31\n",
       "3   0.29  Premium     I     VS2   62.4   58.0    334  4.20  4.23  2.63\n",
       "4   0.31     Good     J     SI2   63.3   58.0    335  4.34  4.35  2.75"
      ]
     },
     "execution_count": 50,
     "metadata": {},
     "output_type": "execute_result"
    }
   ],
   "source": [
    "import pandas as pd\n",
    "\n",
    "path_to_csv = 'C:\\\\users\\\\ashby\\\\dsprojects\\\\applied-modeling-techniques\\\\' + \\\n",
    "              'multiple-linear-regression\\\\diamonds.csv'\n",
    "df = pd.read_csv(path_to_csv)\n",
    "\n",
    "df = df.drop(df.columns[[0]], axis=1)\n",
    "df.head()"
   ]
  },
  {
   "cell_type": "markdown",
   "id": "a0733167-60b9-4f5d-9ccf-e5104d2d1b1f",
   "metadata": {},
   "source": [
    "I then checked each column for nulls.  Given that regression techniques usually require numerical data, the 3 categorical columns also needed special handling.  I started this by eyeballing the distribution of values in those columns and found nothing that would raise any flags here."
   ]
  },
  {
   "cell_type": "code",
   "execution_count": 49,
   "id": "52299f0e-aa8a-4a2f-9c25-a41dbd8299d2",
   "metadata": {},
   "outputs": [
    {
     "name": "stdout",
     "output_type": "stream",
     "text": [
      "carat      0\n",
      "cut        0\n",
      "color      0\n",
      "clarity    0\n",
      "depth      0\n",
      "table      0\n",
      "price      0\n",
      "x          0\n",
      "y          0\n",
      "z          0\n",
      "dtype: int64\n",
      "Ideal        21551\n",
      "Premium      13791\n",
      "Very Good    12082\n",
      "Good          4906\n",
      "Fair          1610\n",
      "Name: cut, dtype: int64\n",
      "G    11292\n",
      "E     9797\n",
      "F     9542\n",
      "H     8304\n",
      "D     6775\n",
      "I     5422\n",
      "J     2808\n",
      "Name: color, dtype: int64\n",
      "SI1     13065\n",
      "VS2     12258\n",
      "SI2      9194\n",
      "VS1      8171\n",
      "VVS2     5066\n",
      "VVS1     3655\n",
      "IF       1790\n",
      "I1        741\n",
      "Name: clarity, dtype: int64\n"
     ]
    }
   ],
   "source": [
    "print(df.isna().sum())\n",
    "categorical_columns = ['cut','color','clarity']\n",
    "for column in categorical_columns:\n",
    "    print(df[column].value_counts())"
   ]
  },
  {
   "cell_type": "markdown",
   "id": "2787cd98-f798-4a1d-8812-f68356f6921b",
   "metadata": {},
   "source": [
    "\n",
    "When you get back, it looks like there could be 146 duplicates in the dataset and you need to remove them?\n",
    "\n",
    "\n",
    "\n",
    "\n",
    "\n",
    "\n",
    "\n",
    "\n",
    "\n",
    "\n",
    "I will need to check for all 4 of the linear regression assumptions.  \n",
    "\n",
    "https://sphweb.bumc.bu.edu/otlt/MPH-Modules/BS/R/R5_Correlation-Regression/R5_Correlation-Regression4.html#:~:text=There%20are%20four%20assumptions%20associated,are%20independent%20of%20each%20other.\n",
    "\n",
    "- Linearity: The relationship between X and the mean of Y is linear.\n",
    "- Homoscedasticity: The variance of residual is the same for any value of X.\n",
    "- Independence: Observations are independent of each other.\n",
    "- Normality: For any fixed value of X, Y is normally distributed.\n",
    "\n",
    "Independence is an easy one to check off, each observation here is a discrete diamond.  Just to be safe though, duplicates were dropped.  \n"
   ]
  },
  {
   "cell_type": "code",
   "execution_count": 61,
   "id": "3de2c330-9016-4fb6-922c-b3baf9f5da10",
   "metadata": {},
   "outputs": [
    {
     "data": {
      "text/plain": [
       "False    53794\n",
       "True       146\n",
       "dtype: int64"
      ]
     },
     "execution_count": 61,
     "metadata": {},
     "output_type": "execute_result"
    }
   ],
   "source": [
    "df.duplicated().value_counts()"
   ]
  },
  {
   "cell_type": "code",
   "execution_count": 41,
   "id": "412cfab3-dbb7-4b1d-8951-1e65891e2ed3",
   "metadata": {},
   "outputs": [],
   "source": [
    "# price will be the dependent variable and needs to be in the top left for the \n",
    "# multi-collinearity fix in the next cell\n",
    "df = df[['price', 'cut', 'carat', 'color', 'clarity', 'depth', 'table', 'x', 'y', 'z']]\n",
    "# dummies!! drop first to maintain the independence assumption\n",
    "df = pd.get_dummies(df, drop_first=True)\n",
    "# abs() to filter on the absolute correlation later\n",
    "corr_matrix = df.corr().abs()"
   ]
  },
  {
   "cell_type": "markdown",
   "id": "7b241647-2cea-4439-8976-536be7854676",
   "metadata": {},
   "source": [
    "Below cell purposefully simple to explain the fix found in the link.  \n",
    "Project Pro assumes a level of familiary with numpy some might not have."
   ]
  },
  {
   "cell_type": "code",
   "execution_count": 45,
   "id": "8541b452-cd45-4682-a508-f6805724891a",
   "metadata": {},
   "outputs": [
    {
     "data": {
      "text/plain": [
       "['carat', 'x', 'y', 'z']"
      ]
     },
     "execution_count": 45,
     "metadata": {},
     "output_type": "execute_result"
    }
   ],
   "source": [
    "# https://www.projectpro.io/recipes/drop-out-highly-correlated-features-in-python\n",
    "x = corr_matrix.shape\n",
    "# 24x24\n",
    "x = np.ones(corr_matrix.shape)\n",
    "# ndarray of 24x24 1s\n",
    "x = np.triu(x, 1)\n",
    "# ndarray of 24x24 the longest diagonal (0) and everything below it is zeroed\n",
    "x = x.astype(bool)\n",
    "# ndarray of 24x24 the longest diagonal (0) and everything below it is false\n",
    "# everything above it is true\n",
    "x = corr_matrix.where(x)\n",
    "\n",
    "x = corr_matrix.where(np.triu(np.ones(corr_matrix.shape), 1).astype(bool))\n",
    "# the correlation matrix again, but NaN for the values below the 0 diag\n",
    "[column for column in x.columns if any(x[column] > 0.8)]\n"
   ]
  },
  {
   "cell_type": "code",
   "execution_count": 47,
   "id": "2e77c5c3-069f-4961-a8e9-9d3e10bd33f8",
   "metadata": {},
   "outputs": [],
   "source": [
    "import statsmodels"
   ]
  },
  {
   "cell_type": "code",
   "execution_count": null,
   "id": "adefd06a-b1dc-4be1-9c5d-bce70aa0f796",
   "metadata": {},
   "outputs": [],
   "source": []
  }
 ],
 "metadata": {
  "kernelspec": {
   "display_name": "Python 3 (ipykernel)",
   "language": "python",
   "name": "python3"
  },
  "language_info": {
   "codemirror_mode": {
    "name": "ipython",
    "version": 3
   },
   "file_extension": ".py",
   "mimetype": "text/x-python",
   "name": "python",
   "nbconvert_exporter": "python",
   "pygments_lexer": "ipython3",
   "version": "3.10.4"
  }
 },
 "nbformat": 4,
 "nbformat_minor": 5
}
