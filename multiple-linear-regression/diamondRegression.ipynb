{
  "cells": [
    {
      "cell_type": "markdown",
      "id": "b7d9e0c5-3fb6-402e-afeb-1341c01fae91",
      "metadata": {
        "id": "b7d9e0c5-3fb6-402e-afeb-1341c01fae91"
      },
      "source": [
        "The goal of this analysis will be to predict diamond prices in usd using various regression techniques.\n",
        "I will use the cliche Kaggle diamond dataset: https://www.kaggle.com/datasets/shivam2503/diamonds.\n",
        "However, this will be a fresh analysis and not a copy of any tutorial or other published notebook.\n"
      ]
    },
    {
      "cell_type": "markdown",
      "id": "5f61b7c3-03db-4acd-a532-b1fddfdc4ecf",
      "metadata": {
        "id": "5f61b7c3-03db-4acd-a532-b1fddfdc4ecf"
      },
      "source": [
        "I started by getting the set into a DataFrame and checking for duplicate IDs."
      ]
    },
    {
      "cell_type": "code",
      "source": [
        "from google.colab import drive\n",
        "import pandas as pd\n",
        "import matplotlib.pyplot as plt\n",
        "%matplotlib inline\n",
        "\n",
        "drive.mount('/content/drive/')\n",
        "path_to_csv = '/content/drive/MyDrive/ColabNotebooks/diamonds.csv'\n",
        "\n",
        "df = pd.read_csv(path_to_csv)\n",
        "print(df.head())\n",
        "\n",
        "df = df.rename(columns={'Unnamed: 0': 'id'})\n",
        "if df['id'].is_unique:\n",
        "  print('no duplicates found')\n",
        "\n",
        "print(df.head())"
      ],
      "metadata": {
        "colab": {
          "base_uri": "https://localhost:8080/"
        },
        "id": "LfMcvxTJluVs",
        "outputId": "5166d50c-bfe2-4790-edad-d3e5e60aae79"
      },
      "id": "LfMcvxTJluVs",
      "execution_count": 5,
      "outputs": [
        {
          "output_type": "stream",
          "name": "stdout",
          "text": [
            "Drive already mounted at /content/drive/; to attempt to forcibly remount, call drive.mount(\"/content/drive/\", force_remount=True).\n",
            "   Unnamed: 0  carat      cut color clarity  depth  table  price     x     y  \\\n",
            "0           1   0.23    Ideal     E     SI2   61.5   55.0    326  3.95  3.98   \n",
            "1           2   0.21  Premium     E     SI1   59.8   61.0    326  3.89  3.84   \n",
            "2           3   0.23     Good     E     VS1   56.9   65.0    327  4.05  4.07   \n",
            "3           4   0.29  Premium     I     VS2   62.4   58.0    334  4.20  4.23   \n",
            "4           5   0.31     Good     J     SI2   63.3   58.0    335  4.34  4.35   \n",
            "\n",
            "      z  \n",
            "0  2.43  \n",
            "1  2.31  \n",
            "2  2.31  \n",
            "3  2.63  \n",
            "4  2.75  \n",
            "no duplicates found\n",
            "   id  carat      cut color clarity  depth  table  price     x     y     z\n",
            "0   1   0.23    Ideal     E     SI2   61.5   55.0    326  3.95  3.98  2.43\n",
            "1   2   0.21  Premium     E     SI1   59.8   61.0    326  3.89  3.84  2.31\n",
            "2   3   0.23     Good     E     VS1   56.9   65.0    327  4.05  4.07  2.31\n",
            "3   4   0.29  Premium     I     VS2   62.4   58.0    334  4.20  4.23  2.63\n",
            "4   5   0.31     Good     J     SI2   63.3   58.0    335  4.34  4.35  2.75\n"
          ]
        }
      ]
    },
    {
      "cell_type": "markdown",
      "id": "a0733167-60b9-4f5d-9ccf-e5104d2d1b1f",
      "metadata": {
        "id": "a0733167-60b9-4f5d-9ccf-e5104d2d1b1f"
      },
      "source": [
        "I then checked each column for nulls and found none.  Given that regression techniques usually require numerical data, the 3 categorical columns also needed special handling.  I started this by eyeballing the distribution of values in those columns and found nothing that would raise any flags here.  The distributions were hardly uniform, but each value for each variable had at least 500 observations, which applies the law of large numbers"
      ]
    },
    {
      "cell_type": "code",
      "execution_count": 2,
      "id": "52299f0e-aa8a-4a2f-9c25-a41dbd8299d2",
      "metadata": {
        "colab": {
          "base_uri": "https://localhost:8080/",
          "height": 931
        },
        "id": "52299f0e-aa8a-4a2f-9c25-a41dbd8299d2",
        "outputId": "0dd94020-2c49-4755-a0a9-1448abbcab9f"
      },
      "outputs": [
        {
          "output_type": "stream",
          "name": "stdout",
          "text": [
            "id         0\n",
            "carat      0\n",
            "cut        0\n",
            "color      0\n",
            "clarity    0\n",
            "depth      0\n",
            "table      0\n",
            "price      0\n",
            "x          0\n",
            "y          0\n",
            "z          0\n",
            "dtype: int64\n",
            "Ideal        21551\n",
            "Premium      13791\n",
            "Very Good    12082\n",
            "Good          4906\n",
            "Fair          1610\n",
            "Name: cut, dtype: int64\n",
            "G    11292\n",
            "E     9797\n",
            "F     9542\n",
            "H     8304\n",
            "D     6775\n",
            "I     5422\n",
            "J     2808\n",
            "Name: color, dtype: int64\n",
            "SI1     13065\n",
            "VS2     12258\n",
            "SI2      9194\n",
            "VS1      8171\n",
            "VVS2     5066\n",
            "VVS1     3655\n",
            "IF       1790\n",
            "I1        741\n",
            "Name: clarity, dtype: int64\n"
          ]
        },
        {
          "output_type": "display_data",
          "data": {
            "text/plain": [
              "<Figure size 432x288 with 3 Axes>"
            ],
            "image/png": "[encoded data removed]"
          },
          "metadata": {
            "needs_background": "light"
          }
        }
      ],
      "source": [
        "print(df.isna().sum())\n",
        "categorical_columns = ['cut','color','clarity']\n",
        "\n",
        "for column in categorical_columns:\n",
        "  print(df[column].value_counts())\n",
        "\n",
        "fig, ax = plt.subplots(1, len(categorical_columns))\n",
        "for i, column in enumerate(df[categorical_columns]):\n",
        "  df[column].value_counts().plot(kind='bar', ax=ax[i]).set_title(column)\n",
        "  \n",
        "fig.show()\n"
      ]
    },
    {
      "cell_type": "markdown",
      "id": "f2e19d3e-9fb9-495c-abf7-0420129bee5a",
      "metadata": {
        "id": "f2e19d3e-9fb9-495c-abf7-0420129bee5a"
      },
      "source": [
        "As these are all ordinal features, applying plain integer encoding is appropriate.  The color and clarity order are well defined, but the cut is less so.  Fair < Good < Very Good is clear from the [GIA](https://https://www.gia.edu/doc/estimating_cut_grade_chart_lowres.pdf), but premium and ideal are less well documented.  \n",
        "\n",
        "It should be possible to make an educated guess on this order from comparing their relationship to price while considering the other variables.  Looking at cut alone, it does seem like premium cut diamonds tend towards higher prices."
      ]
    },
    {
      "cell_type": "code",
      "source": [
        "cut_scale = ['Fair', 'Good', 'Very Good', 'Premium', 'Ideal']\n",
        "df.cut = df.cut.astype('category')\n",
        "df.cut.cat.set_categories(cut_scale)\n",
        "df = df.sort_values('cut')\n",
        "\n",
        "plt.pyplot.scatter(y=df['cut'], x=df['price'], alpha=0.01)"
      ],
      "metadata": {
        "colab": {
          "base_uri": "https://localhost:8080/",
          "height": 282
        },
        "id": "ug1rH5Pm92e5",
        "outputId": "b8bb434b-6d38-4a21-e7ca-525d04882b90"
      },
      "id": "ug1rH5Pm92e5",
      "execution_count": 24,
      "outputs": [
        {
          "output_type": "execute_result",
          "data": {
            "text/plain": [
              "<matplotlib.collections.PathCollection at 0x7f13c5e85310>"
            ]
          },
          "metadata": {},
          "execution_count": 24
        },
        {
          "output_type": "display_data",
          "data": {
            "text/plain": [
              "<Figure size 432x288 with 1 Axes>"
            ],
            "image/png": "[encoded data removed]"
          },
          "metadata": {
            "needs_background": "light"
          }
        }
      ]
    },
    {
      "cell_type": "markdown",
      "source": [
        "The average price for Premium cut diamonds is also higher than Ideal cut, but Fair is also higher than Good and the distribution above (plus semantics) suggests otherwise.  There is another influence on the cut/price relationship that needs to be found (or at least searched for).  The obvious route would be to look at the same 2 stats for similar carat sizes.  However, this dataset is well studied and I won't gain anything by going with the obvious, so let's find an empirical route!"
      ],
      "metadata": {
        "id": "VU6gUwKXGuMe"
      },
      "id": "VU6gUwKXGuMe"
    },
    {
      "cell_type": "code",
      "source": [
        "df.groupby('cut', as_index=False)['price'].mean()"
      ],
      "metadata": {
        "colab": {
          "base_uri": "https://localhost:8080/",
          "height": 206
        },
        "id": "JifRSACR-KZn",
        "outputId": "547086f3-6f3c-4ebf-b4cd-ad4588e00f62"
      },
      "id": "JifRSACR-KZn",
      "execution_count": 25,
      "outputs": [
        {
          "output_type": "execute_result",
          "data": {
            "text/plain": [
              "         cut        price\n",
              "0       Fair  4358.757764\n",
              "1       Good  3928.864452\n",
              "2  Very Good  3981.759891\n",
              "3    Premium  4584.257704\n",
              "4      Ideal  3457.541970"
            ],
            "text/html": [
              "\n",
              "  <div id=\"df-4f5d5361-e010-433e-9562-c13ff468fe3f\">\n",
              "    <div class=\"colab-df-container\">\n",
              "      <div>\n",
              "<style scoped>\n",
              "    .dataframe tbody tr th:only-of-type {\n",
              "        vertical-align: middle;\n",
              "    }\n",
              "\n",
              "    .dataframe tbody tr th {\n",
              "        vertical-align: top;\n",
              "    }\n",
              "\n",
              "    .dataframe thead th {\n",
              "        text-align: right;\n",
              "    }\n",
              "</style>\n",
              "<table border=\"1\" class=\"dataframe\">\n",
              "  <thead>\n",
              "    <tr style=\"text-align: right;\">\n",
              "      <th></th>\n",
              "      <th>cut</th>\n",
              "      <th>price</th>\n",
              "    </tr>\n",
              "  </thead>\n",
              "  <tbody>\n",
              "    <tr>\n",
              "      <th>0</th>\n",
              "      <td>Fair</td>\n",
              "      <td>4358.757764</td>\n",
              "    </tr>\n",
              "    <tr>\n",
              "      <th>1</th>\n",
              "      <td>Good</td>\n",
              "      <td>3928.864452</td>\n",
              "    </tr>\n",
              "    <tr>\n",
              "      <th>2</th>\n",
              "      <td>Very Good</td>\n",
              "      <td>3981.759891</td>\n",
              "    </tr>\n",
              "    <tr>\n",
              "      <th>3</th>\n",
              "      <td>Premium</td>\n",
              "      <td>4584.257704</td>\n",
              "    </tr>\n",
              "    <tr>\n",
              "      <th>4</th>\n",
              "      <td>Ideal</td>\n",
              "      <td>3457.541970</td>\n",
              "    </tr>\n",
              "  </tbody>\n",
              "</table>\n",
              "</div>\n",
              "      <button class=\"colab-df-convert\" onclick=\"convertToInteractive('df-4f5d5361-e010-433e-9562-c13ff468fe3f')\"\n",
              "              title=\"Convert this dataframe to an interactive table.\"\n",
              "              style=\"display:none;\">\n",
              "        \n",
              "  <svg xmlns=\"http://www.w3.org/2000/svg\" height=\"24px\"viewBox=\"0 0 24 24\"\n",
              "       width=\"24px\">\n",
              "    <path d=\"M0 0h24v24H0V0z\" fill=\"none\"/>\n",
              "    <path d=\"M18.56 5.44l.94 2.06.94-2.06 2.06-.94-2.06-.94-.94-2.06-.94 2.06-2.06.94zm-11 1L8.5 8.5l.94-2.06 2.06-.94-2.06-.94L8.5 2.5l-.94 2.06-2.06.94zm10 10l.94 2.06.94-2.06 2.06-.94-2.06-.94-.94-2.06-.94 2.06-2.06.94z\"/><path d=\"M17.41 7.96l-1.37-1.37c-.4-.4-.92-.59-1.43-.59-.52 0-1.04.2-1.43.59L10.3 9.45l-7.72 7.72c-.78.78-.78 2.05 0 2.83L4 21.41c.39.39.9.59 1.41.59.51 0 1.02-.2 1.41-.59l7.78-7.78 2.81-2.81c.8-.78.8-2.07 0-2.86zM5.41 20L4 18.59l7.72-7.72 1.47 1.35L5.41 20z\"/>\n",
              "  </svg>\n",
              "      </button>\n",
              "      \n",
              "  <style>\n",
              "    .colab-df-container {\n",
              "      display:flex;\n",
              "      flex-wrap:wrap;\n",
              "      gap: 12px;\n",
              "    }\n",
              "\n",
              "    .colab-df-convert {\n",
              "      background-color: #E8F0FE;\n",
              "      border: none;\n",
              "      border-radius: 50%;\n",
              "      cursor: pointer;\n",
              "      display: none;\n",
              "      fill: #1967D2;\n",
              "      height: 32px;\n",
              "      padding: 0 0 0 0;\n",
              "      width: 32px;\n",
              "    }\n",
              "\n",
              "    .colab-df-convert:hover {\n",
              "      background-color: #E2EBFA;\n",
              "      box-shadow: 0px 1px 2px rgba(60, 64, 67, 0.3), 0px 1px 3px 1px rgba(60, 64, 67, 0.15);\n",
              "      fill: #174EA6;\n",
              "    }\n",
              "\n",
              "    [theme=dark] .colab-df-convert {\n",
              "      background-color: #3B4455;\n",
              "      fill: #D2E3FC;\n",
              "    }\n",
              "\n",
              "    [theme=dark] .colab-df-convert:hover {\n",
              "      background-color: #434B5C;\n",
              "      box-shadow: 0px 1px 3px 1px rgba(0, 0, 0, 0.15);\n",
              "      filter: drop-shadow(0px 1px 2px rgba(0, 0, 0, 0.3));\n",
              "      fill: #FFFFFF;\n",
              "    }\n",
              "  </style>\n",
              "\n",
              "      <script>\n",
              "        const buttonEl =\n",
              "          document.querySelector('#df-4f5d5361-e010-433e-9562-c13ff468fe3f button.colab-df-convert');\n",
              "        buttonEl.style.display =\n",
              "          google.colab.kernel.accessAllowed ? 'block' : 'none';\n",
              "\n",
              "        async function convertToInteractive(key) {\n",
              "          const element = document.querySelector('#df-4f5d5361-e010-433e-9562-c13ff468fe3f');\n",
              "          const dataTable =\n",
              "            await google.colab.kernel.invokeFunction('convertToInteractive',\n",
              "                                                     [key], {});\n",
              "          if (!dataTable) return;\n",
              "\n",
              "          const docLinkHtml = 'Like what you see? Visit the ' +\n",
              "            '<a target=\"_blank\" href=https://colab.research.google.com/notebooks/data_table.ipynb>data table notebook</a>'\n",
              "            + ' to learn more about interactive tables.';\n",
              "          element.innerHTML = '';\n",
              "          dataTable['output_type'] = 'display_data';\n",
              "          await google.colab.output.renderOutput(dataTable, element);\n",
              "          const docLink = document.createElement('div');\n",
              "          docLink.innerHTML = docLinkHtml;\n",
              "          element.appendChild(docLink);\n",
              "        }\n",
              "      </script>\n",
              "    </div>\n",
              "  </div>\n",
              "  "
            ]
          },
          "metadata": {},
          "execution_count": 25
        }
      ]
    },
    {
      "cell_type": "code",
      "execution_count": 3,
      "id": "412cfab3-dbb7-4b1d-8951-1e65891e2ed3",
      "metadata": {
        "colab": {
          "base_uri": "https://localhost:8080/"
        },
        "id": "412cfab3-dbb7-4b1d-8951-1e65891e2ed3",
        "outputId": "70bbb405-01cb-4196-e75d-7dad49c39c48"
      },
      "outputs": [
        {
          "output_type": "execute_result",
          "data": {
            "text/plain": [
              "Index(['id', 'carat', 'depth', 'table', 'price', 'x', 'y', 'z', 'cut_Good',\n",
              "       'cut_Ideal', 'cut_Premium', 'cut_Very Good', 'color_E', 'color_F',\n",
              "       'color_G', 'color_H', 'color_I', 'color_J', 'clarity_IF', 'clarity_SI1',\n",
              "       'clarity_SI2', 'clarity_VS1', 'clarity_VS2', 'clarity_VVS1',\n",
              "       'clarity_VVS2'],\n",
              "      dtype='object')"
            ]
          },
          "metadata": {},
          "execution_count": 3
        }
      ],
      "source": [
        "df = pd.get_dummies(df, drop_first=True)\n",
        "df.columns"
      ]
    },
    {
      "cell_type": "markdown",
      "source": [
        ""
      ],
      "metadata": {
        "id": "la6DXLdUDdR2"
      },
      "id": "la6DXLdUDdR2"
    },
    {
      "cell_type": "code",
      "source": [
        ""
      ],
      "metadata": {
        "id": "7wMiC4mKDcu0"
      },
      "id": "7wMiC4mKDcu0",
      "execution_count": null,
      "outputs": []
    },
    {
      "cell_type": "markdown",
      "source": [
        ""
      ],
      "metadata": {
        "id": "XhFVMFPdDdOs"
      },
      "id": "XhFVMFPdDdOs"
    },
    {
      "cell_type": "code",
      "source": [
        ""
      ],
      "metadata": {
        "id": "H9sTZbhIDcr-"
      },
      "id": "H9sTZbhIDcr-",
      "execution_count": null,
      "outputs": []
    },
    {
      "cell_type": "markdown",
      "source": [
        ""
      ],
      "metadata": {
        "id": "AxMGlYLeDdLe"
      },
      "id": "AxMGlYLeDdLe"
    },
    {
      "cell_type": "code",
      "source": [
        ""
      ],
      "metadata": {
        "id": "ULKEmSAzDcoh"
      },
      "id": "ULKEmSAzDcoh",
      "execution_count": null,
      "outputs": []
    },
    {
      "cell_type": "markdown",
      "source": [
        ""
      ],
      "metadata": {
        "id": "TEThUx6oDdIX"
      },
      "id": "TEThUx6oDdIX"
    },
    {
      "cell_type": "code",
      "source": [
        ""
      ],
      "metadata": {
        "id": "YMkdrW6jDclD"
      },
      "id": "YMkdrW6jDclD",
      "execution_count": null,
      "outputs": []
    },
    {
      "cell_type": "markdown",
      "id": "7b241647-2cea-4439-8976-536be7854676",
      "metadata": {
        "id": "7b241647-2cea-4439-8976-536be7854676"
      },
      "source": [
        "I need to look at correlations between independent variables.  It would be nice to have an empirical way of ranking the correlations to know which are acceptable.  I couldn't find any methods that did not rely on some sort of guesswork.  For now, I will go with variance inflation factor and the rule of thumb > 5 is worth investigating and 10 is highly correlated."
      ]
    },
    {
      "cell_type": "code",
      "source": [
        "from statsmodels.stats.outliers_influence import variance_inflation_factor\n",
        "\n",
        "drop_price = df.drop(['id','price'], axis = 1)\n",
        "\n",
        "high_vif_column = []\n",
        "max_vif = 11\n",
        "\n",
        "while max_vif >= 10:\n",
        "  vif_data = pd.DataFrame()\n",
        "  vif_data['feature'] = drop_price.columns\n",
        "\n",
        "  vif_data['vif'] = [variance_inflation_factor(drop_price.values, i) \n",
        "                     for i in range(len(drop_price.columns))]\n",
        "  max_vif = max(vif_data['vif'])\n",
        "  if max_vif > 10:\n",
        "    max_loc = vif_data.loc[vif_data['vif'] == max_vif]\n",
        "    max_vif_feature = max_loc['feature'].values[0]\n",
        "    high_vif_column.append(max_vif_feature)\n",
        "    drop_price = drop_price.drop(max_vif_feature, axis=1)\n",
        "\n",
        "print('dropped columns with vifs > 10: ', high_vif_column)\n",
        "print('current vif scores:')\n",
        "print(vif_data)\n",
        "df = df.drop(high_vif_column, axis=1)\n",
        "df.head()\n"
      ],
      "metadata": {
        "id": "4hmOszB7stbc",
        "colab": {
          "base_uri": "https://localhost:8080/",
          "height": 669
        },
        "outputId": "435208cc-8803-44fa-a25e-01d84d996dbc"
      },
      "id": "4hmOszB7stbc",
      "execution_count": 4,
      "outputs": [
        {
          "output_type": "stream",
          "name": "stderr",
          "text": [
            "/usr/local/lib/python3.7/dist-packages/statsmodels/tools/_testing.py:19: FutureWarning: pandas.util.testing is deprecated. Use the functions in the public API at pandas.testing instead.\n",
            "  import pandas.util.testing as tm\n"
          ]
        },
        {
          "output_type": "stream",
          "name": "stdout",
          "text": [
            "dropped columns with vifs > 10:  ['x', 'depth', 'y', 'z', 'table', 'cut_Ideal']\n",
            "current vif scores:\n",
            "          feature       vif\n",
            "0           carat  4.648915\n",
            "1        cut_Good  1.229661\n",
            "2     cut_Premium  1.644957\n",
            "3   cut_Very Good  1.538428\n",
            "4         color_E  2.320527\n",
            "5         color_F  2.316121\n",
            "6         color_G  2.637482\n",
            "7         color_H  2.211607\n",
            "8         color_I  1.852052\n",
            "9         color_J  1.479537\n",
            "10     clarity_IF  1.274871\n",
            "11    clarity_SI1  3.109927\n",
            "12    clarity_SI2  2.794975\n",
            "13    clarity_VS1  2.307734\n",
            "14    clarity_VS2  2.874504\n",
            "15   clarity_VVS1  1.540888\n",
            "16   clarity_VVS2  1.736418\n"
          ]
        },
        {
          "output_type": "execute_result",
          "data": {
            "text/plain": [
              "   id  carat  price  cut_Good  cut_Premium  cut_Very Good  color_E  color_F  \\\n",
              "0   1   0.23    326         0            0              0        1        0   \n",
              "1   2   0.21    326         0            1              0        1        0   \n",
              "2   3   0.23    327         1            0              0        1        0   \n",
              "3   4   0.29    334         0            1              0        0        0   \n",
              "4   5   0.31    335         1            0              0        0        0   \n",
              "\n",
              "   color_G  color_H  color_I  color_J  clarity_IF  clarity_SI1  clarity_SI2  \\\n",
              "0        0        0        0        0           0            0            1   \n",
              "1        0        0        0        0           0            1            0   \n",
              "2        0        0        0        0           0            0            0   \n",
              "3        0        0        1        0           0            0            0   \n",
              "4        0        0        0        1           0            0            1   \n",
              "\n",
              "   clarity_VS1  clarity_VS2  clarity_VVS1  clarity_VVS2  \n",
              "0            0            0             0             0  \n",
              "1            0            0             0             0  \n",
              "2            1            0             0             0  \n",
              "3            0            1             0             0  \n",
              "4            0            0             0             0  "
            ],
            "text/html": [
              "\n",
              "  <div id=\"df-cb752448-0a2c-4658-bc8d-2bbdabe87e69\">\n",
              "    <div class=\"colab-df-container\">\n",
              "      <div>\n",
              "<style scoped>\n",
              "    .dataframe tbody tr th:only-of-type {\n",
              "        vertical-align: middle;\n",
              "    }\n",
              "\n",
              "    .dataframe tbody tr th {\n",
              "        vertical-align: top;\n",
              "    }\n",
              "\n",
              "    .dataframe thead th {\n",
              "        text-align: right;\n",
              "    }\n",
              "</style>\n",
              "<table border=\"1\" class=\"dataframe\">\n",
              "  <thead>\n",
              "    <tr style=\"text-align: right;\">\n",
              "      <th></th>\n",
              "      <th>id</th>\n",
              "      <th>carat</th>\n",
              "      <th>price</th>\n",
              "      <th>cut_Good</th>\n",
              "      <th>cut_Premium</th>\n",
              "      <th>cut_Very Good</th>\n",
              "      <th>color_E</th>\n",
              "      <th>color_F</th>\n",
              "      <th>color_G</th>\n",
              "      <th>color_H</th>\n",
              "      <th>color_I</th>\n",
              "      <th>color_J</th>\n",
              "      <th>clarity_IF</th>\n",
              "      <th>clarity_SI1</th>\n",
              "      <th>clarity_SI2</th>\n",
              "      <th>clarity_VS1</th>\n",
              "      <th>clarity_VS2</th>\n",
              "      <th>clarity_VVS1</th>\n",
              "      <th>clarity_VVS2</th>\n",
              "    </tr>\n",
              "  </thead>\n",
              "  <tbody>\n",
              "    <tr>\n",
              "      <th>0</th>\n",
              "      <td>1</td>\n",
              "      <td>0.23</td>\n",
              "      <td>326</td>\n",
              "      <td>0</td>\n",
              "      <td>0</td>\n",
              "      <td>0</td>\n",
              "      <td>1</td>\n",
              "      <td>0</td>\n",
              "      <td>0</td>\n",
              "      <td>0</td>\n",
              "      <td>0</td>\n",
              "      <td>0</td>\n",
              "      <td>0</td>\n",
              "      <td>0</td>\n",
              "      <td>1</td>\n",
              "      <td>0</td>\n",
              "      <td>0</td>\n",
              "      <td>0</td>\n",
              "      <td>0</td>\n",
              "    </tr>\n",
              "    <tr>\n",
              "      <th>1</th>\n",
              "      <td>2</td>\n",
              "      <td>0.21</td>\n",
              "      <td>326</td>\n",
              "      <td>0</td>\n",
              "      <td>1</td>\n",
              "      <td>0</td>\n",
              "      <td>1</td>\n",
              "      <td>0</td>\n",
              "      <td>0</td>\n",
              "      <td>0</td>\n",
              "      <td>0</td>\n",
              "      <td>0</td>\n",
              "      <td>0</td>\n",
              "      <td>1</td>\n",
              "      <td>0</td>\n",
              "      <td>0</td>\n",
              "      <td>0</td>\n",
              "      <td>0</td>\n",
              "      <td>0</td>\n",
              "    </tr>\n",
              "    <tr>\n",
              "      <th>2</th>\n",
              "      <td>3</td>\n",
              "      <td>0.23</td>\n",
              "      <td>327</td>\n",
              "      <td>1</td>\n",
              "      <td>0</td>\n",
              "      <td>0</td>\n",
              "      <td>1</td>\n",
              "      <td>0</td>\n",
              "      <td>0</td>\n",
              "      <td>0</td>\n",
              "      <td>0</td>\n",
              "      <td>0</td>\n",
              "      <td>0</td>\n",
              "      <td>0</td>\n",
              "      <td>0</td>\n",
              "      <td>1</td>\n",
              "      <td>0</td>\n",
              "      <td>0</td>\n",
              "      <td>0</td>\n",
              "    </tr>\n",
              "    <tr>\n",
              "      <th>3</th>\n",
              "      <td>4</td>\n",
              "      <td>0.29</td>\n",
              "      <td>334</td>\n",
              "      <td>0</td>\n",
              "      <td>1</td>\n",
              "      <td>0</td>\n",
              "      <td>0</td>\n",
              "      <td>0</td>\n",
              "      <td>0</td>\n",
              "      <td>0</td>\n",
              "      <td>1</td>\n",
              "      <td>0</td>\n",
              "      <td>0</td>\n",
              "      <td>0</td>\n",
              "      <td>0</td>\n",
              "      <td>0</td>\n",
              "      <td>1</td>\n",
              "      <td>0</td>\n",
              "      <td>0</td>\n",
              "    </tr>\n",
              "    <tr>\n",
              "      <th>4</th>\n",
              "      <td>5</td>\n",
              "      <td>0.31</td>\n",
              "      <td>335</td>\n",
              "      <td>1</td>\n",
              "      <td>0</td>\n",
              "      <td>0</td>\n",
              "      <td>0</td>\n",
              "      <td>0</td>\n",
              "      <td>0</td>\n",
              "      <td>0</td>\n",
              "      <td>0</td>\n",
              "      <td>1</td>\n",
              "      <td>0</td>\n",
              "      <td>0</td>\n",
              "      <td>1</td>\n",
              "      <td>0</td>\n",
              "      <td>0</td>\n",
              "      <td>0</td>\n",
              "      <td>0</td>\n",
              "    </tr>\n",
              "  </tbody>\n",
              "</table>\n",
              "</div>\n",
              "      <button class=\"colab-df-convert\" onclick=\"convertToInteractive('df-cb752448-0a2c-4658-bc8d-2bbdabe87e69')\"\n",
              "              title=\"Convert this dataframe to an interactive table.\"\n",
              "              style=\"display:none;\">\n",
              "        \n",
              "  <svg xmlns=\"http://www.w3.org/2000/svg\" height=\"24px\"viewBox=\"0 0 24 24\"\n",
              "       width=\"24px\">\n",
              "    <path d=\"M0 0h24v24H0V0z\" fill=\"none\"/>\n",
              "    <path d=\"M18.56 5.44l.94 2.06.94-2.06 2.06-.94-2.06-.94-.94-2.06-.94 2.06-2.06.94zm-11 1L8.5 8.5l.94-2.06 2.06-.94-2.06-.94L8.5 2.5l-.94 2.06-2.06.94zm10 10l.94 2.06.94-2.06 2.06-.94-2.06-.94-.94-2.06-.94 2.06-2.06.94z\"/><path d=\"M17.41 7.96l-1.37-1.37c-.4-.4-.92-.59-1.43-.59-.52 0-1.04.2-1.43.59L10.3 9.45l-7.72 7.72c-.78.78-.78 2.05 0 2.83L4 21.41c.39.39.9.59 1.41.59.51 0 1.02-.2 1.41-.59l7.78-7.78 2.81-2.81c.8-.78.8-2.07 0-2.86zM5.41 20L4 18.59l7.72-7.72 1.47 1.35L5.41 20z\"/>\n",
              "  </svg>\n",
              "      </button>\n",
              "      \n",
              "  <style>\n",
              "    .colab-df-container {\n",
              "      display:flex;\n",
              "      flex-wrap:wrap;\n",
              "      gap: 12px;\n",
              "    }\n",
              "\n",
              "    .colab-df-convert {\n",
              "      background-color: #E8F0FE;\n",
              "      border: none;\n",
              "      border-radius: 50%;\n",
              "      cursor: pointer;\n",
              "      display: none;\n",
              "      fill: #1967D2;\n",
              "      height: 32px;\n",
              "      padding: 0 0 0 0;\n",
              "      width: 32px;\n",
              "    }\n",
              "\n",
              "    .colab-df-convert:hover {\n",
              "      background-color: #E2EBFA;\n",
              "      box-shadow: 0px 1px 2px rgba(60, 64, 67, 0.3), 0px 1px 3px 1px rgba(60, 64, 67, 0.15);\n",
              "      fill: #174EA6;\n",
              "    }\n",
              "\n",
              "    [theme=dark] .colab-df-convert {\n",
              "      background-color: #3B4455;\n",
              "      fill: #D2E3FC;\n",
              "    }\n",
              "\n",
              "    [theme=dark] .colab-df-convert:hover {\n",
              "      background-color: #434B5C;\n",
              "      box-shadow: 0px 1px 3px 1px rgba(0, 0, 0, 0.15);\n",
              "      filter: drop-shadow(0px 1px 2px rgba(0, 0, 0, 0.3));\n",
              "      fill: #FFFFFF;\n",
              "    }\n",
              "  </style>\n",
              "\n",
              "      <script>\n",
              "        const buttonEl =\n",
              "          document.querySelector('#df-cb752448-0a2c-4658-bc8d-2bbdabe87e69 button.colab-df-convert');\n",
              "        buttonEl.style.display =\n",
              "          google.colab.kernel.accessAllowed ? 'block' : 'none';\n",
              "\n",
              "        async function convertToInteractive(key) {\n",
              "          const element = document.querySelector('#df-cb752448-0a2c-4658-bc8d-2bbdabe87e69');\n",
              "          const dataTable =\n",
              "            await google.colab.kernel.invokeFunction('convertToInteractive',\n",
              "                                                     [key], {});\n",
              "          if (!dataTable) return;\n",
              "\n",
              "          const docLinkHtml = 'Like what you see? Visit the ' +\n",
              "            '<a target=\"_blank\" href=https://colab.research.google.com/notebooks/data_table.ipynb>data table notebook</a>'\n",
              "            + ' to learn more about interactive tables.';\n",
              "          element.innerHTML = '';\n",
              "          dataTable['output_type'] = 'display_data';\n",
              "          await google.colab.output.renderOutput(dataTable, element);\n",
              "          const docLink = document.createElement('div');\n",
              "          docLink.innerHTML = docLinkHtml;\n",
              "          element.appendChild(docLink);\n",
              "        }\n",
              "      </script>\n",
              "    </div>\n",
              "  </div>\n",
              "  "
            ]
          },
          "metadata": {},
          "execution_count": 4
        }
      ]
    },
    {
      "cell_type": "markdown",
      "source": [
        "Its not surprising to see that the size columns, x, y, depth and table were removed as hightly correleated with the other values.  These will all be replaced with carat.  Next is outlier detection.  I will compare a few different methods here to a baseline of 2.5 standard deviations from the mean in either direction.  Outliers in interaction terms will not be tracked yet."
      ],
      "metadata": {
        "id": "NW32yq5m-D6t"
      },
      "id": "NW32yq5m-D6t"
    },
    {
      "cell_type": "code",
      "source": [
        "import numpy as np\n",
        "\n",
        "outlier_boundary = 2.5 * np.std(df['carat'])\n",
        "mean_carat = np.mean(df['carat']) \n",
        "mean_carat"
      ],
      "metadata": {
        "colab": {
          "base_uri": "https://localhost:8080/"
        },
        "id": "U4O_4gNVpqTP",
        "outputId": "469f8226-b614-45bc-859e-87b6aa8f07fe"
      },
      "id": "U4O_4gNVpqTP",
      "execution_count": 8,
      "outputs": [
        {
          "output_type": "execute_result",
          "data": {
            "text/plain": [
              "0.7979397478680014"
            ]
          },
          "metadata": {},
          "execution_count": 8
        }
      ]
    },
    {
      "cell_type": "markdown",
      "id": "2787cd98-f798-4a1d-8812-f68356f6921b",
      "metadata": {
        "id": "2787cd98-f798-4a1d-8812-f68356f6921b"
      },
      "source": [
        "I will need to check for all 4 of the linear regression assumptions.  \n",
        "\n",
        "https://sphweb.bumc.bu.edu/otlt/MPH-Modules/BS/R/R5_Correlation-Regression/R5_Correlation-Regression4.html\n",
        "\n",
        "- Independence: Observations are independent of each other.\n",
        "- Linearity: The relationship between X and the mean of Y is linear.\n",
        "- Homoscedasticity: The variance of residual is the same for any value of X.\n",
        "- Normality: For any fixed value of X, Y is normally distributed.\n",
        "\n",
        "Independence is an easy one to check off, each observation here is likely a discrete diamond as each row had unique IDs.  Linearity will be next."
      ]
    },
    {
      "cell_type": "code",
      "source": [
        "from sklearn.linear_model import LinearRegression \n",
        "\n",
        "regr = LinearRegression()\n",
        "regr.fit "
      ],
      "metadata": {
        "id": "Cu5rbTxRCJLm"
      },
      "id": "Cu5rbTxRCJLm",
      "execution_count": null,
      "outputs": []
    }
  ],
  "metadata": {
    "kernelspec": {
      "display_name": "Python 3 (ipykernel)",
      "language": "python",
      "name": "python3"
    },
    "language_info": {
      "codemirror_mode": {
        "name": "ipython",
        "version": 3
      },
      "file_extension": ".py",
      "mimetype": "text/x-python",
      "name": "python",
      "nbconvert_exporter": "python",
      "pygments_lexer": "ipython3",
      "version": "3.10.4"
    },
    "colab": {
      "name": "diamondRegression.ipynb",
      "provenance": [],
      "collapsed_sections": []
    }
  },
  "nbformat": 4,
  "nbformat_minor": 5
}