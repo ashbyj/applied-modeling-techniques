{
 "cells": [
  {
   "cell_type": "code",
   "execution_count": 1,
   "id": "dd4b5666-ee61-4610-9cf7-28f8d0aa127a",
   "metadata": {},
   "outputs": [],
   "source": [
    "import pandas as pd\n",
    "from sklearn.preprocessing import OneHotEncoder"
   ]
  },
  {
   "cell_type": "markdown",
   "id": "5f61b7c3-03db-4acd-a532-b1fddfdc4ecf",
   "metadata": {},
   "source": [
    "Populating the data frame."
   ]
  },
  {
   "cell_type": "code",
   "execution_count": null,
   "id": "52299f0e-aa8a-4a2f-9c25-a41dbd8299d2",
   "metadata": {},
   "outputs": [],
   "source": [
    "path_to_csv = 'C:\\\\users\\\\ashby\\\\dsprojects\\\\applied-modeling-techniques\\\\' + \\\n",
    "              'multiple-linear-regression\\\\diamonds.csv'\n",
    "df = pd.read_csv(path_to_csv)\n",
    "\n",
    "df = df.drop(df.columns[[0]], axis=1)"
   ]
  },
  {
   "cell_type": "markdown",
   "id": "e4cdf885-968f-4a19-abb6-62abda19a3a4",
   "metadata": {},
   "source": [
    "Exploring the data set.  \n",
    "- missing values\n",
    "- high cardinality categoricals\n"
   ]
  },
  {
   "cell_type": "code",
   "execution_count": null,
   "id": "7250413d-62f0-4c80-9523-6367082ba0f0",
   "metadata": {},
   "outputs": [],
   "source": [
    "print(df.isna().sum())\n",
    "print(df['cut'].value_counts())\n",
    "print(df['color'].value_counts())\n",
    "print(df['clarity'].value_counts())"
   ]
  },
  {
   "cell_type": "code",
   "execution_count": null,
   "id": "412cfab3-dbb7-4b1d-8951-1e65891e2ed3",
   "metadata": {},
   "outputs": [],
   "source": [
    "#ohe = OneHotEncoder()\n",
    "print(df['cut'])\n",
    "\n",
    "#df = ohe.fit_transform(df['color','cut','clarity'])"
   ]
  },
  {
   "cell_type": "markdown",
   "id": "b14bcb7b-575b-43ca-98c8-ef04be50dceb",
   "metadata": {},
   "source": [
    "when you get back, you are trying to figure out how to use sklearn's onehotencoder to make dummy variables out of the 3 categoricals, cut, clarity and color."
   ]
  }
 ],
 "metadata": {
  "kernelspec": {
   "display_name": "Python 3 (ipykernel)",
   "language": "python",
   "name": "python3"
  },
  "language_info": {
   "codemirror_mode": {
    "name": "ipython",
    "version": 3
   },
   "file_extension": ".py",
   "mimetype": "text/x-python",
   "name": "python",
   "nbconvert_exporter": "python",
   "pygments_lexer": "ipython3",
   "version": "3.10.4"
  }
 },
 "nbformat": 4,
 "nbformat_minor": 5
}
