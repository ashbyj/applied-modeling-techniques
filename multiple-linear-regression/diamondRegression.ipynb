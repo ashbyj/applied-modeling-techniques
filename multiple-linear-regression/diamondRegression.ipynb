{
 "cells": [
  {
   "cell_type": "markdown",
   "id": "b7d9e0c5-3fb6-402e-afeb-1341c01fae91",
   "metadata": {
    "id": "b7d9e0c5-3fb6-402e-afeb-1341c01fae91"
   },
   "source": [
    "The goal of this analysis will be to predict diamond prices in usd using various regression techniques.\n",
    "I will use the cliche Kaggle diamond dataset: https://www.kaggle.com/datasets/shivam2503/diamonds.\n",
    "However, this will be a fresh analysis and not a copy of any tutorial or other published notebook.\n"
   ]
  },
  {
   "cell_type": "markdown",
   "id": "5f61b7c3-03db-4acd-a532-b1fddfdc4ecf",
   "metadata": {
    "id": "5f61b7c3-03db-4acd-a532-b1fddfdc4ecf"
   },
   "source": [
    "I started by getting the set into a DataFrame and checking for duplicate IDs."
   ]
  },
  {
   "cell_type": "code",
   "execution_count": 6,
   "id": "LfMcvxTJluVs",
   "metadata": {
    "colab": {
     "base_uri": "https://localhost:8080/"
    },
    "id": "LfMcvxTJluVs",
    "outputId": "5166d50c-bfe2-4790-edad-d3e5e60aae79"
   },
   "outputs": [
    {
     "name": "stdout",
     "output_type": "stream",
     "text": [
      "   Unnamed: 0  carat      cut color clarity  depth  table  price     x     y  \\\n",
      "0           1   0.23    Ideal     E     SI2   61.5   55.0    326  3.95  3.98   \n",
      "1           2   0.21  Premium     E     SI1   59.8   61.0    326  3.89  3.84   \n",
      "2           3   0.23     Good     E     VS1   56.9   65.0    327  4.05  4.07   \n",
      "3           4   0.29  Premium     I     VS2   62.4   58.0    334  4.20  4.23   \n",
      "4           5   0.31     Good     J     SI2   63.3   58.0    335  4.34  4.35   \n",
      "\n",
      "      z  \n",
      "0  2.43  \n",
      "1  2.31  \n",
      "2  2.31  \n",
      "3  2.63  \n",
      "4  2.75  \n",
      "no duplicates found\n",
      "   id  carat      cut color clarity  depth  table  price     x     y     z\n",
      "0   1   0.23    Ideal     E     SI2   61.5   55.0    326  3.95  3.98  2.43\n",
      "1   2   0.21  Premium     E     SI1   59.8   61.0    326  3.89  3.84  2.31\n",
      "2   3   0.23     Good     E     VS1   56.9   65.0    327  4.05  4.07  2.31\n",
      "3   4   0.29  Premium     I     VS2   62.4   58.0    334  4.20  4.23  2.63\n",
      "4   5   0.31     Good     J     SI2   63.3   58.0    335  4.34  4.35  2.75\n"
     ]
    }
   ],
   "source": [
    "import pandas as pd\n",
    "import matplotlib.pyplot as plt\n",
    "%matplotlib inline\n",
    "\n",
    "path_to_csv = 'diamonds.csv'\n",
    "\n",
    "df = pd.read_csv(path_to_csv)\n",
    "print(df.head())\n",
    "\n",
    "df = df.rename(columns={'Unnamed: 0': 'id'})\n",
    "if df['id'].is_unique:\n",
    "  print('no duplicates found')\n",
    "\n",
    "print(df.head())"
   ]
  },
  {
   "cell_type": "markdown",
   "id": "a0733167-60b9-4f5d-9ccf-e5104d2d1b1f",
   "metadata": {
    "id": "a0733167-60b9-4f5d-9ccf-e5104d2d1b1f"
   },
   "source": [
    "I then checked each column for nulls and found none.  Given that regression techniques usually require numerical data, the 3 categorical columns also needed special handling.  I started this by eyeballing the distribution of values in those columns and found nothing that would raise any flags here.  The distributions were hardly uniform, but each value for each variable had at least 500 observations, which applies the law of large numbers"
   ]
  },
  {
   "cell_type": "code",
   "execution_count": 7,
   "id": "52299f0e-aa8a-4a2f-9c25-a41dbd8299d2",
   "metadata": {
    "colab": {
     "base_uri": "https://localhost:8080/",
     "height": 931
    },
    "id": "52299f0e-aa8a-4a2f-9c25-a41dbd8299d2",
    "outputId": "0dd94020-2c49-4755-a0a9-1448abbcab9f"
   },
   "outputs": [
    {
     "name": "stdout",
     "output_type": "stream",
     "text": [
      "id         0\n",
      "carat      0\n",
      "cut        0\n",
      "color      0\n",
      "clarity    0\n",
      "depth      0\n",
      "table      0\n",
      "price      0\n",
      "x          0\n",
      "y          0\n",
      "z          0\n",
      "dtype: int64\n",
      "Ideal        21551\n",
      "Premium      13791\n",
      "Very Good    12082\n",
      "Good          4906\n",
      "Fair          1610\n",
      "Name: cut, dtype: int64\n",
      "G    11292\n",
      "E     9797\n",
      "F     9542\n",
      "H     8304\n",
      "D     6775\n",
      "I     5422\n",
      "J     2808\n",
      "Name: color, dtype: int64\n",
      "SI1     13065\n",
      "VS2     12258\n",
      "SI2      9194\n",
      "VS1      8171\n",
      "VVS2     5066\n",
      "VVS1     3655\n",
      "IF       1790\n",
      "I1        741\n",
      "Name: clarity, dtype: int64\n"
     ]
    },
    {
     "name": "stderr",
     "output_type": "stream",
     "text": [
      "C:\\Users\\ashby\\AppData\\Local\\Temp\\ipykernel_31112\\3011198894.py:11: UserWarning: Matplotlib is currently using module://matplotlib_inline.backend_inline, which is a non-GUI backend, so cannot show the figure.\n",
      "  fig.show()\n"
     ]
    },
    {
     "data": {
      "image/png": "[encoded data removed]",
      "text/plain": [
       "<Figure size 432x288 with 3 Axes>"
      ]
     },
     "metadata": {
      "needs_background": "light"
     },
     "output_type": "display_data"
    }
   ],
   "source": [
    "print(df.isna().sum())\n",
    "categorical_columns = ['cut','color','clarity']\n",
    "\n",
    "for column in categorical_columns:\n",
    "  print(df[column].value_counts())\n",
    "\n",
    "fig, ax = plt.subplots(1, len(categorical_columns))\n",
    "for i, column in enumerate(df[categorical_columns]):\n",
    "  df[column].value_counts().plot(kind='bar', ax=ax[i]).set_title(column)\n",
    "  \n",
    "fig.show()\n"
   ]
  },
  {
   "cell_type": "markdown",
   "id": "f2e19d3e-9fb9-495c-abf7-0420129bee5a",
   "metadata": {
    "id": "f2e19d3e-9fb9-495c-abf7-0420129bee5a"
   },
   "source": [
    "As these are all ordinal features, applying plain integer encoding is appropriate.  The color and clarity order are well defined, but the cut is less so.  Fair < Good < Very Good is clear from the [GIA](https://https://www.gia.edu/doc/estimating_cut_grade_chart_lowres.pdf), but premium and ideal are less well documented.  \n",
    "\n",
    "It should be possible to make an educated guess on this order from comparing their relationship to price while considering the other variables.  Looking at cut alone, it does seem like premium cut diamonds tend towards higher prices."
   ]
  },
  {
   "cell_type": "code",
   "execution_count": 9,
   "id": "ug1rH5Pm92e5",
   "metadata": {
    "colab": {
     "base_uri": "https://localhost:8080/",
     "height": 282
    },
    "id": "ug1rH5Pm92e5",
    "outputId": "b8bb434b-6d38-4a21-e7ca-525d04882b90"
   },
   "outputs": [
    {
     "data": {
      "text/plain": [
       "<matplotlib.collections.PathCollection at 0x12bbd2aada0>"
      ]
     },
     "execution_count": 9,
     "metadata": {},
     "output_type": "execute_result"
    },
    {
     "data": {
      "image/png": "[encoded data removed]",
      "text/plain": [
       "<Figure size 432x288 with 1 Axes>"
      ]
     },
     "metadata": {
      "needs_background": "light"
     },
     "output_type": "display_data"
    }
   ],
   "source": [
    "cut_scale = ['Fair', 'Good', 'Very Good', 'Premium', 'Ideal']\n",
    "df.cut = df.cut.astype('category')\n",
    "df.cut.cat.set_categories(cut_scale)\n",
    "df = df.sort_values('cut')\n",
    "\n",
    "plt.scatter(y=df['cut'], x=df['price'], alpha=0.01)"
   ]
  },
  {
   "cell_type": "markdown",
   "id": "VU6gUwKXGuMe",
   "metadata": {
    "id": "VU6gUwKXGuMe"
   },
   "source": [
    "The average price for Premium cut diamonds is also higher than Ideal cut, but Fair is also higher than Good and the distribution above (plus semantics) suggests otherwise.  There is another influence on the cut/price relationship that needs to be found (or at least searched for).  The obvious route would be to look at the same 2 stats for similar carat sizes.  However, this dataset is well studied and I won't gain anything by going with the obvious, so let's find an empirical route!"
   ]
  },
  {
   "cell_type": "code",
   "execution_count": 10,
   "id": "JifRSACR-KZn",
   "metadata": {
    "colab": {
     "base_uri": "https://localhost:8080/",
     "height": 206
    },
    "id": "JifRSACR-KZn",
    "outputId": "547086f3-6f3c-4ebf-b4cd-ad4588e00f62"
   },
   "outputs": [
    {
     "data": {
      "text/html": [
       "<div>\n",
       "<style scoped>\n",
       "    .dataframe tbody tr th:only-of-type {\n",
       "        vertical-align: middle;\n",
       "    }\n",
       "\n",
       "    .dataframe tbody tr th {\n",
       "        vertical-align: top;\n",
       "    }\n",
       "\n",
       "    .dataframe thead th {\n",
       "        text-align: right;\n",
       "    }\n",
       "</style>\n",
       "<table border=\"1\" class=\"dataframe\">\n",
       "  <thead>\n",
       "    <tr style=\"text-align: right;\">\n",
       "      <th></th>\n",
       "      <th>cut</th>\n",
       "      <th>price</th>\n",
       "    </tr>\n",
       "  </thead>\n",
       "  <tbody>\n",
       "    <tr>\n",
       "      <th>0</th>\n",
       "      <td>Fair</td>\n",
       "      <td>4358.757764</td>\n",
       "    </tr>\n",
       "    <tr>\n",
       "      <th>1</th>\n",
       "      <td>Good</td>\n",
       "      <td>3928.864452</td>\n",
       "    </tr>\n",
       "    <tr>\n",
       "      <th>2</th>\n",
       "      <td>Ideal</td>\n",
       "      <td>3457.541970</td>\n",
       "    </tr>\n",
       "    <tr>\n",
       "      <th>3</th>\n",
       "      <td>Premium</td>\n",
       "      <td>4584.257704</td>\n",
       "    </tr>\n",
       "    <tr>\n",
       "      <th>4</th>\n",
       "      <td>Very Good</td>\n",
       "      <td>3981.759891</td>\n",
       "    </tr>\n",
       "  </tbody>\n",
       "</table>\n",
       "</div>"
      ],
      "text/plain": [
       "         cut        price\n",
       "0       Fair  4358.757764\n",
       "1       Good  3928.864452\n",
       "2      Ideal  3457.541970\n",
       "3    Premium  4584.257704\n",
       "4  Very Good  3981.759891"
      ]
     },
     "execution_count": 10,
     "metadata": {},
     "output_type": "execute_result"
    }
   ],
   "source": [
    "df.groupby('cut', as_index=False)['price'].mean()"
   ]
  },
  {
   "cell_type": "code",
   "execution_count": 11,
   "id": "412cfab3-dbb7-4b1d-8951-1e65891e2ed3",
   "metadata": {
    "colab": {
     "base_uri": "https://localhost:8080/"
    },
    "id": "412cfab3-dbb7-4b1d-8951-1e65891e2ed3",
    "outputId": "70bbb405-01cb-4196-e75d-7dad49c39c48"
   },
   "outputs": [
    {
     "data": {
      "text/plain": [
       "Index(['id', 'carat', 'depth', 'table', 'price', 'x', 'y', 'z', 'cut_Good',\n",
       "       'cut_Ideal', 'cut_Premium', 'cut_Very Good', 'color_E', 'color_F',\n",
       "       'color_G', 'color_H', 'color_I', 'color_J', 'clarity_IF', 'clarity_SI1',\n",
       "       'clarity_SI2', 'clarity_VS1', 'clarity_VS2', 'clarity_VVS1',\n",
       "       'clarity_VVS2'],\n",
       "      dtype='object')"
      ]
     },
     "execution_count": 11,
     "metadata": {},
     "output_type": "execute_result"
    }
   ],
   "source": [
    "df = pd.get_dummies(df, drop_first=True)\n",
    "df.columns"
   ]
  },
  {
   "cell_type": "markdown",
   "id": "la6DXLdUDdR2",
   "metadata": {
    "id": "la6DXLdUDdR2"
   },
   "source": []
  },
  {
   "cell_type": "code",
   "execution_count": null,
   "id": "7wMiC4mKDcu0",
   "metadata": {
    "id": "7wMiC4mKDcu0"
   },
   "outputs": [],
   "source": []
  },
  {
   "cell_type": "markdown",
   "id": "XhFVMFPdDdOs",
   "metadata": {
    "id": "XhFVMFPdDdOs"
   },
   "source": []
  },
  {
   "cell_type": "code",
   "execution_count": null,
   "id": "H9sTZbhIDcr-",
   "metadata": {
    "id": "H9sTZbhIDcr-"
   },
   "outputs": [],
   "source": []
  },
  {
   "cell_type": "markdown",
   "id": "AxMGlYLeDdLe",
   "metadata": {
    "id": "AxMGlYLeDdLe"
   },
   "source": []
  },
  {
   "cell_type": "code",
   "execution_count": null,
   "id": "ULKEmSAzDcoh",
   "metadata": {
    "id": "ULKEmSAzDcoh"
   },
   "outputs": [],
   "source": []
  },
  {
   "cell_type": "markdown",
   "id": "TEThUx6oDdIX",
   "metadata": {
    "id": "TEThUx6oDdIX"
   },
   "source": []
  },
  {
   "cell_type": "code",
   "execution_count": null,
   "id": "YMkdrW6jDclD",
   "metadata": {
    "id": "YMkdrW6jDclD"
   },
   "outputs": [],
   "source": []
  },
  {
   "cell_type": "markdown",
   "id": "7b241647-2cea-4439-8976-536be7854676",
   "metadata": {
    "id": "7b241647-2cea-4439-8976-536be7854676"
   },
   "source": [
    "I need to look at correlations between independent variables.  It would be nice to have an empirical way of ranking the correlations to know which are acceptable.  I couldn't find any methods that did not rely on some sort of guesswork.  For now, I will go with variance inflation factor and the rule of thumb > 5 is worth investigating and 10 is highly correlated."
   ]
  },
  {
   "cell_type": "code",
   "execution_count": 12,
   "id": "4hmOszB7stbc",
   "metadata": {
    "colab": {
     "base_uri": "https://localhost:8080/",
     "height": 669
    },
    "id": "4hmOszB7stbc",
    "outputId": "435208cc-8803-44fa-a25e-01d84d996dbc"
   },
   "outputs": [
    {
     "name": "stdout",
     "output_type": "stream",
     "text": [
      "dropped columns with vifs > 10:  ['x', 'depth', 'y', 'z', 'table', 'cut_Ideal']\n",
      "current vif scores:\n",
      "          feature       vif\n",
      "0           carat  4.648915\n",
      "1        cut_Good  1.229661\n",
      "2     cut_Premium  1.644957\n",
      "3   cut_Very Good  1.538428\n",
      "4         color_E  2.320527\n",
      "5         color_F  2.316121\n",
      "6         color_G  2.637482\n",
      "7         color_H  2.211607\n",
      "8         color_I  1.852052\n",
      "9         color_J  1.479537\n",
      "10     clarity_IF  1.274871\n",
      "11    clarity_SI1  3.109927\n",
      "12    clarity_SI2  2.794975\n",
      "13    clarity_VS1  2.307734\n",
      "14    clarity_VS2  2.874504\n",
      "15   clarity_VVS1  1.540888\n",
      "16   clarity_VVS2  1.736418\n"
     ]
    },
    {
     "data": {
      "text/html": [
       "<div>\n",
       "<style scoped>\n",
       "    .dataframe tbody tr th:only-of-type {\n",
       "        vertical-align: middle;\n",
       "    }\n",
       "\n",
       "    .dataframe tbody tr th {\n",
       "        vertical-align: top;\n",
       "    }\n",
       "\n",
       "    .dataframe thead th {\n",
       "        text-align: right;\n",
       "    }\n",
       "</style>\n",
       "<table border=\"1\" class=\"dataframe\">\n",
       "  <thead>\n",
       "    <tr style=\"text-align: right;\">\n",
       "      <th></th>\n",
       "      <th>id</th>\n",
       "      <th>carat</th>\n",
       "      <th>price</th>\n",
       "      <th>cut_Good</th>\n",
       "      <th>cut_Premium</th>\n",
       "      <th>cut_Very Good</th>\n",
       "      <th>color_E</th>\n",
       "      <th>color_F</th>\n",
       "      <th>color_G</th>\n",
       "      <th>color_H</th>\n",
       "      <th>color_I</th>\n",
       "      <th>color_J</th>\n",
       "      <th>clarity_IF</th>\n",
       "      <th>clarity_SI1</th>\n",
       "      <th>clarity_SI2</th>\n",
       "      <th>clarity_VS1</th>\n",
       "      <th>clarity_VS2</th>\n",
       "      <th>clarity_VVS1</th>\n",
       "      <th>clarity_VVS2</th>\n",
       "    </tr>\n",
       "  </thead>\n",
       "  <tbody>\n",
       "    <tr>\n",
       "      <th>3850</th>\n",
       "      <td>3851</td>\n",
       "      <td>1.01</td>\n",
       "      <td>3477</td>\n",
       "      <td>0</td>\n",
       "      <td>0</td>\n",
       "      <td>0</td>\n",
       "      <td>0</td>\n",
       "      <td>1</td>\n",
       "      <td>0</td>\n",
       "      <td>0</td>\n",
       "      <td>0</td>\n",
       "      <td>0</td>\n",
       "      <td>0</td>\n",
       "      <td>0</td>\n",
       "      <td>1</td>\n",
       "      <td>0</td>\n",
       "      <td>0</td>\n",
       "      <td>0</td>\n",
       "      <td>0</td>\n",
       "    </tr>\n",
       "    <tr>\n",
       "      <th>26202</th>\n",
       "      <td>26203</td>\n",
       "      <td>1.50</td>\n",
       "      <td>15584</td>\n",
       "      <td>0</td>\n",
       "      <td>0</td>\n",
       "      <td>0</td>\n",
       "      <td>1</td>\n",
       "      <td>0</td>\n",
       "      <td>0</td>\n",
       "      <td>0</td>\n",
       "      <td>0</td>\n",
       "      <td>0</td>\n",
       "      <td>0</td>\n",
       "      <td>0</td>\n",
       "      <td>0</td>\n",
       "      <td>1</td>\n",
       "      <td>0</td>\n",
       "      <td>0</td>\n",
       "      <td>0</td>\n",
       "    </tr>\n",
       "    <tr>\n",
       "      <th>4207</th>\n",
       "      <td>4208</td>\n",
       "      <td>1.04</td>\n",
       "      <td>3564</td>\n",
       "      <td>0</td>\n",
       "      <td>0</td>\n",
       "      <td>0</td>\n",
       "      <td>0</td>\n",
       "      <td>0</td>\n",
       "      <td>1</td>\n",
       "      <td>0</td>\n",
       "      <td>0</td>\n",
       "      <td>0</td>\n",
       "      <td>0</td>\n",
       "      <td>0</td>\n",
       "      <td>1</td>\n",
       "      <td>0</td>\n",
       "      <td>0</td>\n",
       "      <td>0</td>\n",
       "      <td>0</td>\n",
       "    </tr>\n",
       "    <tr>\n",
       "      <th>41432</th>\n",
       "      <td>41433</td>\n",
       "      <td>0.45</td>\n",
       "      <td>1227</td>\n",
       "      <td>0</td>\n",
       "      <td>0</td>\n",
       "      <td>0</td>\n",
       "      <td>0</td>\n",
       "      <td>0</td>\n",
       "      <td>0</td>\n",
       "      <td>1</td>\n",
       "      <td>0</td>\n",
       "      <td>0</td>\n",
       "      <td>0</td>\n",
       "      <td>0</td>\n",
       "      <td>0</td>\n",
       "      <td>0</td>\n",
       "      <td>0</td>\n",
       "      <td>0</td>\n",
       "      <td>1</td>\n",
       "    </tr>\n",
       "    <tr>\n",
       "      <th>33758</th>\n",
       "      <td>33759</td>\n",
       "      <td>0.40</td>\n",
       "      <td>840</td>\n",
       "      <td>0</td>\n",
       "      <td>0</td>\n",
       "      <td>0</td>\n",
       "      <td>0</td>\n",
       "      <td>0</td>\n",
       "      <td>1</td>\n",
       "      <td>0</td>\n",
       "      <td>0</td>\n",
       "      <td>0</td>\n",
       "      <td>0</td>\n",
       "      <td>1</td>\n",
       "      <td>0</td>\n",
       "      <td>0</td>\n",
       "      <td>0</td>\n",
       "      <td>0</td>\n",
       "      <td>0</td>\n",
       "    </tr>\n",
       "  </tbody>\n",
       "</table>\n",
       "</div>"
      ],
      "text/plain": [
       "          id  carat  price  cut_Good  cut_Premium  cut_Very Good  color_E  \\\n",
       "3850    3851   1.01   3477         0            0              0        0   \n",
       "26202  26203   1.50  15584         0            0              0        1   \n",
       "4207    4208   1.04   3564         0            0              0        0   \n",
       "41432  41433   0.45   1227         0            0              0        0   \n",
       "33758  33759   0.40    840         0            0              0        0   \n",
       "\n",
       "       color_F  color_G  color_H  color_I  color_J  clarity_IF  clarity_SI1  \\\n",
       "3850         1        0        0        0        0           0            0   \n",
       "26202        0        0        0        0        0           0            0   \n",
       "4207         0        1        0        0        0           0            0   \n",
       "41432        0        0        1        0        0           0            0   \n",
       "33758        0        1        0        0        0           0            1   \n",
       "\n",
       "       clarity_SI2  clarity_VS1  clarity_VS2  clarity_VVS1  clarity_VVS2  \n",
       "3850             1            0            0             0             0  \n",
       "26202            0            1            0             0             0  \n",
       "4207             1            0            0             0             0  \n",
       "41432            0            0            0             0             1  \n",
       "33758            0            0            0             0             0  "
      ]
     },
     "execution_count": 12,
     "metadata": {},
     "output_type": "execute_result"
    }
   ],
   "source": [
    "from statsmodels.stats.outliers_influence import variance_inflation_factor\n",
    "\n",
    "drop_price = df.drop(['id','price'], axis = 1)\n",
    "\n",
    "high_vif_column = []\n",
    "max_vif = 11\n",
    "\n",
    "while max_vif >= 10:\n",
    "  vif_data = pd.DataFrame()\n",
    "  vif_data['feature'] = drop_price.columns\n",
    "\n",
    "  vif_data['vif'] = [variance_inflation_factor(drop_price.values, i) \n",
    "                     for i in range(len(drop_price.columns))]\n",
    "  max_vif = max(vif_data['vif'])\n",
    "  if max_vif > 10:\n",
    "    max_loc = vif_data.loc[vif_data['vif'] == max_vif]\n",
    "    max_vif_feature = max_loc['feature'].values[0]\n",
    "    high_vif_column.append(max_vif_feature)\n",
    "    drop_price = drop_price.drop(max_vif_feature, axis=1)\n",
    "\n",
    "print('dropped columns with vifs > 10: ', high_vif_column)\n",
    "print('current vif scores:')\n",
    "print(vif_data)\n",
    "df = df.drop(high_vif_column, axis=1)\n",
    "df.head()\n"
   ]
  },
  {
   "cell_type": "markdown",
   "id": "NW32yq5m-D6t",
   "metadata": {
    "id": "NW32yq5m-D6t"
   },
   "source": [
    "Its not surprising to see that the size columns, x, y, depth and table were removed as hightly correleated with the other values.  These will all be replaced with carat.  Next is outlier detection.  I will compare a few different methods here to a baseline of 2.5 standard deviations from the mean in either direction.  Outliers in interaction terms will not be tracked yet."
   ]
  },
  {
   "cell_type": "code",
   "execution_count": 13,
   "id": "U4O_4gNVpqTP",
   "metadata": {
    "colab": {
     "base_uri": "https://localhost:8080/"
    },
    "id": "U4O_4gNVpqTP",
    "outputId": "469f8226-b614-45bc-859e-87b6aa8f07fe"
   },
   "outputs": [
    {
     "data": {
      "text/plain": [
       "0.7979397478680014"
      ]
     },
     "execution_count": 13,
     "metadata": {},
     "output_type": "execute_result"
    }
   ],
   "source": [
    "import numpy as np\n",
    "\n",
    "outlier_boundary = 2.5 * np.std(df['carat'])\n",
    "mean_carat = np.mean(df['carat']) \n",
    "mean_carat"
   ]
  },
  {
   "cell_type": "markdown",
   "id": "2787cd98-f798-4a1d-8812-f68356f6921b",
   "metadata": {
    "id": "2787cd98-f798-4a1d-8812-f68356f6921b"
   },
   "source": [
    "I will need to check for all 4 of the linear regression assumptions.  \n",
    "\n",
    "https://sphweb.bumc.bu.edu/otlt/MPH-Modules/BS/R/R5_Correlation-Regression/R5_Correlation-Regression4.html\n",
    "\n",
    "- Independence: Observations are independent of each other.\n",
    "- Linearity: The relationship between X and the mean of Y is linear.\n",
    "- Homoscedasticity: The variance of residual is the same for any value of X.\n",
    "- Normality: For any fixed value of X, Y is normally distributed.\n",
    "\n",
    "Independence is an easy one to check off, each observation here is likely a discrete diamond as each row had unique IDs.  Linearity will be next."
   ]
  },
  {
   "cell_type": "code",
   "execution_count": 14,
   "id": "Cu5rbTxRCJLm",
   "metadata": {
    "id": "Cu5rbTxRCJLm"
   },
   "outputs": [
    {
     "data": {
      "text/plain": [
       "<bound method LinearRegression.fit of LinearRegression()>"
      ]
     },
     "execution_count": 14,
     "metadata": {},
     "output_type": "execute_result"
    }
   ],
   "source": [
    "from sklearn.linear_model import LinearRegression \n",
    "\n",
    "regr = LinearRegression()\n",
    "regr.fit "
   ]
  }
 ],
 "metadata": {
  "colab": {
   "collapsed_sections": [],
   "name": "diamondRegression.ipynb",
   "provenance": []
  },
  "kernelspec": {
   "display_name": "Python 3 (ipykernel)",
   "language": "python",
   "name": "python3"
  },
  "language_info": {
   "codemirror_mode": {
    "name": "ipython",
    "version": 3
   },
   "file_extension": ".py",
   "mimetype": "text/x-python",
   "name": "python",
   "nbconvert_exporter": "python",
   "pygments_lexer": "ipython3",
   "version": "3.10.4"
  }
 },
 "nbformat": 4,
 "nbformat_minor": 5
}
