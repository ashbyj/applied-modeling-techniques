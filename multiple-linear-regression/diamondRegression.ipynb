{
 "cells": [
  {
   "cell_type": "markdown",
   "id": "b7d9e0c5-3fb6-402e-afeb-1341c01fae91",
   "metadata": {
    "id": "b7d9e0c5-3fb6-402e-afeb-1341c01fae91"
   },
   "source": [
    "The goal of this analysis will be to predict diamond prices in usd using various regression techniques.\n",
    "I will use the cliche Kaggle diamond dataset: https://www.kaggle.com/datasets/shivam2503/diamonds.\n",
    "However, this will be a fresh analysis and not a copy of any tutorial or other published notebook.\n"
   ]
  },
  {
   "cell_type": "markdown",
   "id": "5f61b7c3-03db-4acd-a532-b1fddfdc4ecf",
   "metadata": {
    "id": "5f61b7c3-03db-4acd-a532-b1fddfdc4ecf"
   },
   "source": [
    "I started by getting the set into a DataFrame and checking for duplicate IDs."
   ]
  },
  {
   "cell_type": "code",
   "execution_count": 32,
   "id": "LfMcvxTJluVs",
   "metadata": {
    "colab": {
     "base_uri": "https://localhost:8080/"
    },
    "id": "LfMcvxTJluVs",
    "outputId": "5166d50c-bfe2-4790-edad-d3e5e60aae79"
   },
   "outputs": [
    {
     "name": "stdout",
     "output_type": "stream",
     "text": [
      "   Unnamed: 0  carat      cut color clarity  depth  table  price     x     y  \\\n",
      "0           1   0.23    Ideal     E     SI2   61.5   55.0    326  3.95  3.98   \n",
      "1           2   0.21  Premium     E     SI1   59.8   61.0    326  3.89  3.84   \n",
      "2           3   0.23     Good     E     VS1   56.9   65.0    327  4.05  4.07   \n",
      "3           4   0.29  Premium     I     VS2   62.4   58.0    334  4.20  4.23   \n",
      "4           5   0.31     Good     J     SI2   63.3   58.0    335  4.34  4.35   \n",
      "\n",
      "      z  \n",
      "0  2.43  \n",
      "1  2.31  \n",
      "2  2.31  \n",
      "3  2.63  \n",
      "4  2.75  \n",
      "no duplicates found\n",
      "   id  carat      cut color clarity  depth  table  price     x     y     z\n",
      "0   1   0.23    Ideal     E     SI2   61.5   55.0    326  3.95  3.98  2.43\n",
      "1   2   0.21  Premium     E     SI1   59.8   61.0    326  3.89  3.84  2.31\n",
      "2   3   0.23     Good     E     VS1   56.9   65.0    327  4.05  4.07  2.31\n",
      "3   4   0.29  Premium     I     VS2   62.4   58.0    334  4.20  4.23  2.63\n",
      "4   5   0.31     Good     J     SI2   63.3   58.0    335  4.34  4.35  2.75\n"
     ]
    }
   ],
   "source": [
    "import pandas as pd\n",
    "import matplotlib.pyplot as plt\n",
    "import warnings \n",
    "warnings.filterwarnings('ignore')\n",
    "%matplotlib inline\n",
    "\n",
    "path_to_csv = 'diamonds.csv'\n",
    "\n",
    "df = pd.read_csv(path_to_csv)\n",
    "print(df.head())\n",
    "\n",
    "df = df.rename(columns={'Unnamed: 0': 'id'})\n",
    "if df['id'].is_unique:\n",
    "  print('no duplicates found')\n",
    "\n",
    "print(df.head())"
   ]
  },
  {
   "cell_type": "markdown",
   "id": "a0733167-60b9-4f5d-9ccf-e5104d2d1b1f",
   "metadata": {
    "id": "a0733167-60b9-4f5d-9ccf-e5104d2d1b1f"
   },
   "source": [
    "I then checked each column for nulls and found none.  Given that regression techniques usually require numerical data, the 3 categorical columns also needed special handling.  I started this by eyeballing the distribution of values in those columns and found nothing that would raise any flags here.  The distributions were hardly uniform, but each value for each variable had at least 500 observations, which applies the law of large numbers"
   ]
  },
  {
   "cell_type": "code",
   "execution_count": 24,
   "id": "52299f0e-aa8a-4a2f-9c25-a41dbd8299d2",
   "metadata": {
    "colab": {
     "base_uri": "https://localhost:8080/",
     "height": 931
    },
    "id": "52299f0e-aa8a-4a2f-9c25-a41dbd8299d2",
    "outputId": "0dd94020-2c49-4755-a0a9-1448abbcab9f"
   },
   "outputs": [
    {
     "name": "stdout",
     "output_type": "stream",
     "text": [
      "id         0\n",
      "carat      0\n",
      "cut        0\n",
      "color      0\n",
      "clarity    0\n",
      "depth      0\n",
      "table      0\n",
      "price      0\n",
      "x          0\n",
      "y          0\n",
      "z          0\n",
      "dtype: int64\n",
      "Ideal        21551\n",
      "Premium      13791\n",
      "Very Good    12082\n",
      "Good          4906\n",
      "Fair          1610\n",
      "Name: cut, dtype: int64\n",
      "G    11292\n",
      "E     9797\n",
      "F     9542\n",
      "H     8304\n",
      "D     6775\n",
      "I     5422\n",
      "J     2808\n",
      "Name: color, dtype: int64\n",
      "SI1     13065\n",
      "VS2     12258\n",
      "SI2      9194\n",
      "VS1      8171\n",
      "VVS2     5066\n",
      "VVS1     3655\n",
      "IF       1790\n",
      "I1        741\n",
      "Name: clarity, dtype: int64\n"
     ]
    },
    {
     "data": {
      "image/png": "[encoded data removed]",
      "text/plain": [
       "<Figure size 432x288 with 3 Axes>"
      ]
     },
     "metadata": {
      "needs_background": "light"
     },
     "output_type": "display_data"
    }
   ],
   "source": [
    "print(df.isna().sum())\n",
    "categorical_columns = ['cut','color','clarity']\n",
    "\n",
    "for column in categorical_columns:\n",
    "  print(df[column].value_counts())\n",
    "\n",
    "fig, ax = plt.subplots(1, len(categorical_columns))\n",
    "for i, column in enumerate(df[categorical_columns]):\n",
    "  df[column].value_counts().plot(kind='bar', ax=ax[i]).set_title(column)\n",
    "  \n",
    "fig.show()\n"
   ]
  },
  {
   "cell_type": "markdown",
   "id": "f2e19d3e-9fb9-495c-abf7-0420129bee5a",
   "metadata": {
    "id": "f2e19d3e-9fb9-495c-abf7-0420129bee5a"
   },
   "source": [
    "As color and clarity are ordinal features, applying plain integer encoding is appropriate.  Cut is also ordinal by nature, but I can't determine whether premium or ideal is the most valuable cut.  Fair < Good < Very Good is clear from the [GIA](https://www.gia.edu/doc/estimating_cut_grade_chart_lowres.pdf), but premium and ideal are not included in the scale.  Excellent from the GIA's scale is not included in the dataset.  Cut will have to be treated as nominal.  First, integer encoding for the ordinal color and clarity."
   ]
  },
  {
   "cell_type": "code",
   "execution_count": 34,
   "id": "7wMiC4mKDcu0",
   "metadata": {
    "id": "7wMiC4mKDcu0"
   },
   "outputs": [
    {
     "data": {
      "text/html": [
       "<div>\n",
       "<style scoped>\n",
       "    .dataframe tbody tr th:only-of-type {\n",
       "        vertical-align: middle;\n",
       "    }\n",
       "\n",
       "    .dataframe tbody tr th {\n",
       "        vertical-align: top;\n",
       "    }\n",
       "\n",
       "    .dataframe thead th {\n",
       "        text-align: right;\n",
       "    }\n",
       "</style>\n",
       "<table border=\"1\" class=\"dataframe\">\n",
       "  <thead>\n",
       "    <tr style=\"text-align: right;\">\n",
       "      <th></th>\n",
       "      <th>id</th>\n",
       "      <th>carat</th>\n",
       "      <th>cut</th>\n",
       "      <th>color</th>\n",
       "      <th>clarity</th>\n",
       "      <th>depth</th>\n",
       "      <th>table</th>\n",
       "      <th>price</th>\n",
       "      <th>x</th>\n",
       "      <th>y</th>\n",
       "      <th>z</th>\n",
       "    </tr>\n",
       "  </thead>\n",
       "  <tbody>\n",
       "    <tr>\n",
       "      <th>0</th>\n",
       "      <td>1</td>\n",
       "      <td>0.23</td>\n",
       "      <td>Ideal</td>\n",
       "      <td>5</td>\n",
       "      <td>1</td>\n",
       "      <td>61.5</td>\n",
       "      <td>55.0</td>\n",
       "      <td>326</td>\n",
       "      <td>3.95</td>\n",
       "      <td>3.98</td>\n",
       "      <td>2.43</td>\n",
       "    </tr>\n",
       "    <tr>\n",
       "      <th>1</th>\n",
       "      <td>2</td>\n",
       "      <td>0.21</td>\n",
       "      <td>Premium</td>\n",
       "      <td>5</td>\n",
       "      <td>2</td>\n",
       "      <td>59.8</td>\n",
       "      <td>61.0</td>\n",
       "      <td>326</td>\n",
       "      <td>3.89</td>\n",
       "      <td>3.84</td>\n",
       "      <td>2.31</td>\n",
       "    </tr>\n",
       "    <tr>\n",
       "      <th>2</th>\n",
       "      <td>3</td>\n",
       "      <td>0.23</td>\n",
       "      <td>Good</td>\n",
       "      <td>5</td>\n",
       "      <td>4</td>\n",
       "      <td>56.9</td>\n",
       "      <td>65.0</td>\n",
       "      <td>327</td>\n",
       "      <td>4.05</td>\n",
       "      <td>4.07</td>\n",
       "      <td>2.31</td>\n",
       "    </tr>\n",
       "    <tr>\n",
       "      <th>3</th>\n",
       "      <td>4</td>\n",
       "      <td>0.29</td>\n",
       "      <td>Premium</td>\n",
       "      <td>1</td>\n",
       "      <td>3</td>\n",
       "      <td>62.4</td>\n",
       "      <td>58.0</td>\n",
       "      <td>334</td>\n",
       "      <td>4.20</td>\n",
       "      <td>4.23</td>\n",
       "      <td>2.63</td>\n",
       "    </tr>\n",
       "    <tr>\n",
       "      <th>4</th>\n",
       "      <td>5</td>\n",
       "      <td>0.31</td>\n",
       "      <td>Good</td>\n",
       "      <td>0</td>\n",
       "      <td>1</td>\n",
       "      <td>63.3</td>\n",
       "      <td>58.0</td>\n",
       "      <td>335</td>\n",
       "      <td>4.34</td>\n",
       "      <td>4.35</td>\n",
       "      <td>2.75</td>\n",
       "    </tr>\n",
       "  </tbody>\n",
       "</table>\n",
       "</div>"
      ],
      "text/plain": [
       "   id  carat      cut  color  clarity  depth  table  price     x     y     z\n",
       "0   1   0.23    Ideal      5        1   61.5   55.0    326  3.95  3.98  2.43\n",
       "1   2   0.21  Premium      5        2   59.8   61.0    326  3.89  3.84  2.31\n",
       "2   3   0.23     Good      5        4   56.9   65.0    327  4.05  4.07  2.31\n",
       "3   4   0.29  Premium      1        3   62.4   58.0    334  4.20  4.23  2.63\n",
       "4   5   0.31     Good      0        1   63.3   58.0    335  4.34  4.35  2.75"
      ]
     },
     "execution_count": 34,
     "metadata": {},
     "output_type": "execute_result"
    }
   ],
   "source": [
    "working_df = df.copy()\n",
    "working_df['color'] = working_df['color'].replace(['J','I','H','G','F','E','D'],\n",
    "                                          [0,1,2,3,4,5,6])\n",
    "working_df['clarity']= working_df['clarity'].replace(['I1','SI2','SI1','VS2',\n",
    "                                              'VS1','VVS2','VVS1','IF'],\n",
    "                                             [0,1,2,3,4,5,6,7])\n",
    "working_df.head()\n"
   ]
  },
  {
   "cell_type": "markdown",
   "id": "910637cf-8570-4674-a844-606138084b41",
   "metadata": {},
   "source": [
    "This does rely on the assumption that the difference in price between each of the levels in color and clarity are equal. This is likely not true, but I will come back and explore this later in the analysis.  Next comes a test for multi-collinearity.  Highly correlated variables could impact the accuracy of our model. I will use variance inflation factor for this with a cutoff of 10 being highly correlated.  Correlations cannot be applied to the categorical cut variable."
   ]
  },
  {
   "cell_type": "code",
   "execution_count": 45,
   "id": "4hmOszB7stbc",
   "metadata": {
    "colab": {
     "base_uri": "https://localhost:8080/",
     "height": 669
    },
    "id": "4hmOszB7stbc",
    "outputId": "435208cc-8803-44fa-a25e-01d84d996dbc"
   },
   "outputs": [
    {
     "name": "stdout",
     "output_type": "stream",
     "text": [
      "dropped columns with vifs > 10:  ['x', 'depth', 'y', 'z', 'table']\n",
      "current vif scores:\n",
      "   feature       vif\n",
      "0    carat  2.135574\n",
      "1    color  3.020068\n",
      "2  clarity  2.780893\n"
     ]
    },
    {
     "data": {
      "text/html": [
       "<div>\n",
       "<style scoped>\n",
       "    .dataframe tbody tr th:only-of-type {\n",
       "        vertical-align: middle;\n",
       "    }\n",
       "\n",
       "    .dataframe tbody tr th {\n",
       "        vertical-align: top;\n",
       "    }\n",
       "\n",
       "    .dataframe thead th {\n",
       "        text-align: right;\n",
       "    }\n",
       "</style>\n",
       "<table border=\"1\" class=\"dataframe\">\n",
       "  <thead>\n",
       "    <tr style=\"text-align: right;\">\n",
       "      <th></th>\n",
       "      <th>id</th>\n",
       "      <th>carat</th>\n",
       "      <th>cut</th>\n",
       "      <th>color</th>\n",
       "      <th>clarity</th>\n",
       "      <th>price</th>\n",
       "    </tr>\n",
       "  </thead>\n",
       "  <tbody>\n",
       "    <tr>\n",
       "      <th>0</th>\n",
       "      <td>1</td>\n",
       "      <td>0.23</td>\n",
       "      <td>Ideal</td>\n",
       "      <td>5</td>\n",
       "      <td>1</td>\n",
       "      <td>326</td>\n",
       "    </tr>\n",
       "    <tr>\n",
       "      <th>1</th>\n",
       "      <td>2</td>\n",
       "      <td>0.21</td>\n",
       "      <td>Premium</td>\n",
       "      <td>5</td>\n",
       "      <td>2</td>\n",
       "      <td>326</td>\n",
       "    </tr>\n",
       "    <tr>\n",
       "      <th>2</th>\n",
       "      <td>3</td>\n",
       "      <td>0.23</td>\n",
       "      <td>Good</td>\n",
       "      <td>5</td>\n",
       "      <td>4</td>\n",
       "      <td>327</td>\n",
       "    </tr>\n",
       "    <tr>\n",
       "      <th>3</th>\n",
       "      <td>4</td>\n",
       "      <td>0.29</td>\n",
       "      <td>Premium</td>\n",
       "      <td>1</td>\n",
       "      <td>3</td>\n",
       "      <td>334</td>\n",
       "    </tr>\n",
       "    <tr>\n",
       "      <th>4</th>\n",
       "      <td>5</td>\n",
       "      <td>0.31</td>\n",
       "      <td>Good</td>\n",
       "      <td>0</td>\n",
       "      <td>1</td>\n",
       "      <td>335</td>\n",
       "    </tr>\n",
       "  </tbody>\n",
       "</table>\n",
       "</div>"
      ],
      "text/plain": [
       "   id  carat      cut  color  clarity  price\n",
       "0   1   0.23    Ideal      5        1    326\n",
       "1   2   0.21  Premium      5        2    326\n",
       "2   3   0.23     Good      5        4    327\n",
       "3   4   0.29  Premium      1        3    334\n",
       "4   5   0.31     Good      0        1    335"
      ]
     },
     "execution_count": 45,
     "metadata": {},
     "output_type": "execute_result"
    }
   ],
   "source": [
    "from statsmodels.stats.outliers_influence import variance_inflation_factor\n",
    "\n",
    "vif_search = working_df.drop(['id','price','cut'], axis = 1).copy()\n",
    "\n",
    "high_vif_column = []\n",
    "max_vif = 11\n",
    "\n",
    "while max_vif >= 10:\n",
    "  vif_data = pd.DataFrame()\n",
    "  vif_data['feature'] = vif_search.columns\n",
    "\n",
    "  vif_data['vif'] = [variance_inflation_factor(vif_search.values, i) \n",
    "                     for i in range(len(vif_search.columns))]\n",
    "  max_vif = max(vif_data['vif'])\n",
    "  if max_vif > 10:\n",
    "    max_loc = vif_data.loc[vif_data['vif'] == max_vif]\n",
    "    max_vif_feature = max_loc['feature'].values[0]\n",
    "    high_vif_column.append(max_vif_feature)\n",
    "    vif_search = vif_search.drop(max_vif_feature, axis=1)\n",
    "\n",
    "print('dropped columns with vifs > 10: ', high_vif_column)\n",
    "print('current vif scores:')\n",
    "print(vif_data)\n",
    "working_df = working_df.drop(high_vif_column, axis=1)\n",
    "working_df.head()\n"
   ]
  },
  {
   "cell_type": "markdown",
   "id": "29eee66e-c499-4dcb-8468-dfc4c4fcbee1",
   "metadata": {},
   "source": [
    "Go figure that we are left with the 4 C's of diamond price.  I will take this as confirmation that the analysis has been solid so far and continue the practice.  "
   ]
  },
  {
   "cell_type": "markdown",
   "id": "dcffdd73-c3db-40b8-91b1-2364f4a85cb7",
   "metadata": {},
   "source": [
    "Using dummy encoding for cut per the discussion [here](https://stats.stackexchange.com/questions/224051/one-hot-vs-dummy-encoding-in-scikit-learn)."
   ]
  },
  {
   "cell_type": "code",
   "execution_count": 46,
   "id": "412cfab3-dbb7-4b1d-8951-1e65891e2ed3",
   "metadata": {
    "colab": {
     "base_uri": "https://localhost:8080/"
    },
    "id": "412cfab3-dbb7-4b1d-8951-1e65891e2ed3",
    "outputId": "70bbb405-01cb-4196-e75d-7dad49c39c48"
   },
   "outputs": [
    {
     "data": {
      "text/plain": [
       "Index(['id', 'carat', 'color', 'clarity', 'price', 'cut_Good', 'cut_Ideal',\n",
       "       'cut_Premium', 'cut_Very Good'],\n",
       "      dtype='object')"
      ]
     },
     "execution_count": 46,
     "metadata": {},
     "output_type": "execute_result"
    }
   ],
   "source": [
    "working_df = pd.get_dummies(working_df, drop_first=True)\n",
    "working_df.columns"
   ]
  },
  {
   "cell_type": "markdown",
   "id": "7b241647-2cea-4439-8976-536be7854676",
   "metadata": {
    "id": "7b241647-2cea-4439-8976-536be7854676"
   },
   "source": [
    "I need to look at correlations between independent variables.  It would be nice to have an empirical way of ranking the correlations to know which are acceptable.  I couldn't find any methods that did not rely on some sort of guesswork.  For now, I will go with variance inflation factor and the rule of thumb > 5 is worth investigating and 10 is highly correlated."
   ]
  },
  {
   "cell_type": "markdown",
   "id": "NW32yq5m-D6t",
   "metadata": {
    "id": "NW32yq5m-D6t"
   },
   "source": [
    "Its not surprising to see that the size columns, x, y, depth and table were removed as hightly correleated with the other values.  These will all be replaced with carat.  Next is outlier detection.  I will compare a few different methods here to a baseline of 2.5 standard deviations from the mean in either direction.  Outliers in interaction terms will not be tracked yet."
   ]
  },
  {
   "cell_type": "markdown",
   "id": "2787cd98-f798-4a1d-8812-f68356f6921b",
   "metadata": {
    "id": "2787cd98-f798-4a1d-8812-f68356f6921b"
   },
   "source": [
    "I will need to check for all 4 of the linear regression assumptions.  \n",
    "\n",
    "https://sphweb.bumc.bu.edu/otlt/MPH-Modules/BS/R/R5_Correlation-Regression/R5_Correlation-Regression4.html\n",
    "\n",
    "- Independence: Observations are independent of each other.\n",
    "- Linearity: The relationship between X and the mean of Y is linear.\n",
    "- Homoscedasticity: The variance of residual is the same for any value of X.\n",
    "- Normality: For any fixed value of X, Y is normally distributed.\n",
    "\n",
    "Independence is an easy one to check off, each observation here is likely a discrete diamond as each row had unique IDs.  Linearity will be next."
   ]
  }
 ],
 "metadata": {
  "colab": {
   "collapsed_sections": [],
   "name": "diamondRegression.ipynb",
   "provenance": []
  },
  "kernelspec": {
   "display_name": "Python 3 (ipykernel)",
   "language": "python",
   "name": "python3"
  },
  "language_info": {
   "codemirror_mode": {
    "name": "ipython",
    "version": 3
   },
   "file_extension": ".py",
   "mimetype": "text/x-python",
   "name": "python",
   "nbconvert_exporter": "python",
   "pygments_lexer": "ipython3",
   "version": "3.10.4"
  }
 },
 "nbformat": 4,
 "nbformat_minor": 5
}
